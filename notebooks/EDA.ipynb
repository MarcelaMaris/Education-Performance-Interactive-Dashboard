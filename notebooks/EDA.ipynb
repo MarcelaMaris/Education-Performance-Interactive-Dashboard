{
 "cells": [
  {
   "cell_type": "code",
   "execution_count": null,
   "id": "76499257",
   "metadata": {},
   "outputs": [],
   "source": [
    "import pandas as pd\n",
    "import plotly.express as px\n",
    "\n",
    "\n",
    "\n"
   ]
  },
  {
   "cell_type": "code",
   "execution_count": null,
   "id": "7543c067",
   "metadata": {},
   "outputs": [],
   "source": [
    "df = pd.read_csv(r'C:\\Users\\marce\\OneDrive\\Área de Trabalho\\Data Analytics\\Projeto_ENEM\\dashboard-enem\\enem.csv') \n",
    "df.head()\n"
   ]
  },
  {
   "cell_type": "code",
   "execution_count": null,
   "id": "49da1380",
   "metadata": {},
   "outputs": [],
   "source": [
    "import pandas as pd\n",
    "import plotly.express as px\n",
    "\n",
    "df = pd.read_csv(r'C:\\Users\\marce\\OneDrive\\Área de Trabalho\\Data Analytics\\Projeto_ENEM\\dashboard-enem\\enem.csv') \n",
    "\n"
   ]
  },
  {
   "cell_type": "code",
   "execution_count": null,
   "id": "45bd4e84",
   "metadata": {},
   "outputs": [],
   "source": [
    "fig = px.histogram(\n",
    "    df, \n",
    "    x='age', \n",
    "    color='gender', \n",
    "    nbins=20,\n",
    "    barmode='overlay',  # ou 'group' se preferir barras lado a lado\n",
    "    title='Age Distribution by Gender'\n",
    ")\n",
    "fig.show()\n"
   ]
  },
  {
   "cell_type": "code",
   "execution_count": null,
   "id": "1927fa96",
   "metadata": {},
   "outputs": [],
   "source": [
    "df = pd.read_csv(\n",
    "    r'C:\\Users\\marce\\OneDrive\\Área de Trabalho\\Data Analytics\\Projeto_ENEM\\dashboard-enem\\enem.csv',\n",
    "    encoding='latin1'  # tenta latin1, que costuma funcionar bem com arquivos em português\n",
    ")\n",
    "\n",
    "print(df['gender'].unique())\n",
    "\n",
    "import plotly.express as px\n",
    "\n",
    "# Primeiro, filtra o ano de 2019\n",
    "df = df[df['year'] == 2019]\n",
    "\n",
    "# Mapeia F e M para nomes completos\n",
    "df['gender'] = df['gender'].map({'F': 'Female', 'M': 'Male'})\n",
    "\n",
    "# Gera o histograma de idade por gênero\n",
    "fig = px.histogram(\n",
    "    df,\n",
    "    x='age',\n",
    "    color='gender',\n",
    "    nbins=20,\n",
    "    barmode='overlay',  # ou 'group' se preferir barras separadas\n",
    "    title='Age Distribution by Gender'\n",
    ")\n",
    "\n",
    "fig.show()\n"
   ]
  },
  {
   "cell_type": "code",
   "execution_count": null,
   "id": "ce06c7b9",
   "metadata": {},
   "outputs": [],
   "source": [
    "fig = px.box(\n",
    "    df,\n",
    "    x='gender',\n",
    "    y='score_mathematics',\n",
    "    title='Math Scores by Gender',\n",
    "    color='gender',\n",
    "    color_discrete_map={\n",
    "        'Female': 'lightblue',\n",
    "        'Male': 'lightcoral'\n",
    "    }\n",
    ")\n",
    "\n",
    "fig.show()\n"
   ]
  },
  {
   "cell_type": "code",
   "execution_count": null,
   "id": "c2acf7af",
   "metadata": {},
   "outputs": [],
   "source": [
    "import plotly.express as px\n",
    "\n",
    "fig = px.scatter(\n",
    "    df,\n",
    "    x='age',\n",
    "    y='score_overall',\n",
    "    color='gender',\n",
    "    opacity=0.4,\n",
    "    title='Overall Score by Age and Gender',\n",
    "    labels={\n",
    "        'age': 'Age',\n",
    "        'score_overall': 'Overall Score',\n",
    "        'gender': 'Gender'\n",
    "    }\n",
    ")\n",
    "\n",
    "fig.show()\n"
   ]
  },
  {
   "cell_type": "code",
   "execution_count": null,
   "id": "3df0bb21",
   "metadata": {},
   "outputs": [],
   "source": []
  }
 ],
 "metadata": {
  "kernelspec": {
   "display_name": "enem_env",
   "language": "python",
   "name": "python3"
  },
  "language_info": {
   "codemirror_mode": {
    "name": "ipython",
    "version": 3
   },
   "file_extension": ".py",
   "mimetype": "text/x-python",
   "name": "python",
   "nbconvert_exporter": "python",
   "pygments_lexer": "ipython3",
   "version": "3.12.7"
  }
 },
 "nbformat": 4,
 "nbformat_minor": 5
}
